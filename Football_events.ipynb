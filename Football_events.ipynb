{
  "cells": [
    {
      "cell_type": "code",
      "execution_count": 1,
      "metadata": {
        "id": "m3LM1KoKg_XH"
      },
      "outputs": [],
      "source": [
        "import pandas as pd\n",
        "import numpy as np"
      ]
    },
    {
      "cell_type": "markdown",
      "metadata": {
        "id": "oWuu1x-YBRVE"
      },
      "source": [
        "In this section you should extract some information about the [Football Events](https://www.kaggle.com/datasets/secareanualin/football-events?select=events.csv) dataset.<br>\n",
        "1. Your plots must be informative.anyone who looks at your plot must understand it without knowing the code behind it.use label, title, legend,... in your plots to do so.\n",
        "2. You must not use for/while loops in this section.\n",
        "3. Writing the answer in markdown in the notebook has extra points. \n"
      ]
    },
    {
      "cell_type": "markdown",
      "metadata": {
        "id": "fMeJB3z-MLyU"
      },
      "source": [
        "## Q0. Import the datasets\n",
        "1. import the datasets into pandas.DataFrame objects.\n",
        "2. get some insight about the dataset(use head, dtypes,colmns, ...)\n",
        "the more you do in this part the better.\n"
      ]
    },
    {
      "cell_type": "code",
      "execution_count": 2,
      "metadata": {
        "id": "FicGnwjuMK77"
      },
      "outputs": [],
      "source": [
        "events_df=pd.read_csv('events.csv')\n",
        "ginf_df=pd.read_csv('ginf.csv')\n"
      ]
    },
    {
      "cell_type": "code",
      "execution_count": 3,
      "metadata": {},
      "outputs": [
        {
          "data": {
            "text/html": [
              "<div>\n",
              "<style scoped>\n",
              "    .dataframe tbody tr th:only-of-type {\n",
              "        vertical-align: middle;\n",
              "    }\n",
              "\n",
              "    .dataframe tbody tr th {\n",
              "        vertical-align: top;\n",
              "    }\n",
              "\n",
              "    .dataframe thead th {\n",
              "        text-align: right;\n",
              "    }\n",
              "</style>\n",
              "<table border=\"1\" class=\"dataframe\">\n",
              "  <thead>\n",
              "    <tr style=\"text-align: right;\">\n",
              "      <th></th>\n",
              "      <th>id_odsp</th>\n",
              "      <th>id_event</th>\n",
              "      <th>sort_order</th>\n",
              "      <th>time</th>\n",
              "      <th>text</th>\n",
              "      <th>event_type</th>\n",
              "      <th>event_type2</th>\n",
              "      <th>side</th>\n",
              "      <th>event_team</th>\n",
              "      <th>opponent</th>\n",
              "      <th>...</th>\n",
              "      <th>player_in</th>\n",
              "      <th>player_out</th>\n",
              "      <th>shot_place</th>\n",
              "      <th>shot_outcome</th>\n",
              "      <th>is_goal</th>\n",
              "      <th>location</th>\n",
              "      <th>bodypart</th>\n",
              "      <th>assist_method</th>\n",
              "      <th>situation</th>\n",
              "      <th>fast_break</th>\n",
              "    </tr>\n",
              "  </thead>\n",
              "  <tbody>\n",
              "    <tr>\n",
              "      <th>0</th>\n",
              "      <td>UFot0hit/</td>\n",
              "      <td>UFot0hit1</td>\n",
              "      <td>1</td>\n",
              "      <td>2</td>\n",
              "      <td>Attempt missed. Mladen Petric (Hamburg) left f...</td>\n",
              "      <td>1</td>\n",
              "      <td>12.0</td>\n",
              "      <td>2</td>\n",
              "      <td>Hamburg SV</td>\n",
              "      <td>Borussia Dortmund</td>\n",
              "      <td>...</td>\n",
              "      <td>NaN</td>\n",
              "      <td>NaN</td>\n",
              "      <td>6.0</td>\n",
              "      <td>2.0</td>\n",
              "      <td>0</td>\n",
              "      <td>9.0</td>\n",
              "      <td>2.0</td>\n",
              "      <td>1</td>\n",
              "      <td>1.0</td>\n",
              "      <td>0</td>\n",
              "    </tr>\n",
              "    <tr>\n",
              "      <th>1</th>\n",
              "      <td>UFot0hit/</td>\n",
              "      <td>UFot0hit2</td>\n",
              "      <td>2</td>\n",
              "      <td>4</td>\n",
              "      <td>Corner,  Borussia Dortmund. Conceded by Dennis...</td>\n",
              "      <td>2</td>\n",
              "      <td>NaN</td>\n",
              "      <td>1</td>\n",
              "      <td>Borussia Dortmund</td>\n",
              "      <td>Hamburg SV</td>\n",
              "      <td>...</td>\n",
              "      <td>NaN</td>\n",
              "      <td>NaN</td>\n",
              "      <td>NaN</td>\n",
              "      <td>NaN</td>\n",
              "      <td>0</td>\n",
              "      <td>NaN</td>\n",
              "      <td>NaN</td>\n",
              "      <td>0</td>\n",
              "      <td>NaN</td>\n",
              "      <td>0</td>\n",
              "    </tr>\n",
              "    <tr>\n",
              "      <th>2</th>\n",
              "      <td>UFot0hit/</td>\n",
              "      <td>UFot0hit3</td>\n",
              "      <td>3</td>\n",
              "      <td>4</td>\n",
              "      <td>Corner,  Borussia Dortmund. Conceded by Heiko ...</td>\n",
              "      <td>2</td>\n",
              "      <td>NaN</td>\n",
              "      <td>1</td>\n",
              "      <td>Borussia Dortmund</td>\n",
              "      <td>Hamburg SV</td>\n",
              "      <td>...</td>\n",
              "      <td>NaN</td>\n",
              "      <td>NaN</td>\n",
              "      <td>NaN</td>\n",
              "      <td>NaN</td>\n",
              "      <td>0</td>\n",
              "      <td>NaN</td>\n",
              "      <td>NaN</td>\n",
              "      <td>0</td>\n",
              "      <td>NaN</td>\n",
              "      <td>0</td>\n",
              "    </tr>\n",
              "    <tr>\n",
              "      <th>3</th>\n",
              "      <td>UFot0hit/</td>\n",
              "      <td>UFot0hit4</td>\n",
              "      <td>4</td>\n",
              "      <td>7</td>\n",
              "      <td>Foul by Sven Bender (Borussia Dortmund).</td>\n",
              "      <td>3</td>\n",
              "      <td>NaN</td>\n",
              "      <td>1</td>\n",
              "      <td>Borussia Dortmund</td>\n",
              "      <td>Hamburg SV</td>\n",
              "      <td>...</td>\n",
              "      <td>NaN</td>\n",
              "      <td>NaN</td>\n",
              "      <td>NaN</td>\n",
              "      <td>NaN</td>\n",
              "      <td>0</td>\n",
              "      <td>NaN</td>\n",
              "      <td>NaN</td>\n",
              "      <td>0</td>\n",
              "      <td>NaN</td>\n",
              "      <td>0</td>\n",
              "    </tr>\n",
              "    <tr>\n",
              "      <th>4</th>\n",
              "      <td>UFot0hit/</td>\n",
              "      <td>UFot0hit5</td>\n",
              "      <td>5</td>\n",
              "      <td>7</td>\n",
              "      <td>Gokhan Tore (Hamburg) wins a free kick in the ...</td>\n",
              "      <td>8</td>\n",
              "      <td>NaN</td>\n",
              "      <td>2</td>\n",
              "      <td>Hamburg SV</td>\n",
              "      <td>Borussia Dortmund</td>\n",
              "      <td>...</td>\n",
              "      <td>NaN</td>\n",
              "      <td>NaN</td>\n",
              "      <td>NaN</td>\n",
              "      <td>NaN</td>\n",
              "      <td>0</td>\n",
              "      <td>2.0</td>\n",
              "      <td>NaN</td>\n",
              "      <td>0</td>\n",
              "      <td>NaN</td>\n",
              "      <td>0</td>\n",
              "    </tr>\n",
              "  </tbody>\n",
              "</table>\n",
              "<p>5 rows × 22 columns</p>\n",
              "</div>"
            ],
            "text/plain": [
              "     id_odsp   id_event  sort_order  time  \\\n",
              "0  UFot0hit/  UFot0hit1           1     2   \n",
              "1  UFot0hit/  UFot0hit2           2     4   \n",
              "2  UFot0hit/  UFot0hit3           3     4   \n",
              "3  UFot0hit/  UFot0hit4           4     7   \n",
              "4  UFot0hit/  UFot0hit5           5     7   \n",
              "\n",
              "                                                text  event_type  event_type2  \\\n",
              "0  Attempt missed. Mladen Petric (Hamburg) left f...           1         12.0   \n",
              "1  Corner,  Borussia Dortmund. Conceded by Dennis...           2          NaN   \n",
              "2  Corner,  Borussia Dortmund. Conceded by Heiko ...           2          NaN   \n",
              "3           Foul by Sven Bender (Borussia Dortmund).           3          NaN   \n",
              "4  Gokhan Tore (Hamburg) wins a free kick in the ...           8          NaN   \n",
              "\n",
              "   side         event_team           opponent  ... player_in player_out  \\\n",
              "0     2         Hamburg SV  Borussia Dortmund  ...       NaN        NaN   \n",
              "1     1  Borussia Dortmund         Hamburg SV  ...       NaN        NaN   \n",
              "2     1  Borussia Dortmund         Hamburg SV  ...       NaN        NaN   \n",
              "3     1  Borussia Dortmund         Hamburg SV  ...       NaN        NaN   \n",
              "4     2         Hamburg SV  Borussia Dortmund  ...       NaN        NaN   \n",
              "\n",
              "  shot_place shot_outcome  is_goal  location  bodypart  assist_method  \\\n",
              "0        6.0          2.0        0       9.0       2.0              1   \n",
              "1        NaN          NaN        0       NaN       NaN              0   \n",
              "2        NaN          NaN        0       NaN       NaN              0   \n",
              "3        NaN          NaN        0       NaN       NaN              0   \n",
              "4        NaN          NaN        0       2.0       NaN              0   \n",
              "\n",
              "   situation  fast_break  \n",
              "0        1.0           0  \n",
              "1        NaN           0  \n",
              "2        NaN           0  \n",
              "3        NaN           0  \n",
              "4        NaN           0  \n",
              "\n",
              "[5 rows x 22 columns]"
            ]
          },
          "execution_count": 3,
          "metadata": {},
          "output_type": "execute_result"
        }
      ],
      "source": [
        "events_df.head()"
      ]
    },
    {
      "cell_type": "code",
      "execution_count": 4,
      "metadata": {},
      "outputs": [
        {
          "name": "stdout",
          "output_type": "stream",
          "text": [
            "<class 'pandas.core.frame.DataFrame'>\n",
            "RangeIndex: 941009 entries, 0 to 941008\n",
            "Data columns (total 22 columns):\n",
            " #   Column         Non-Null Count   Dtype  \n",
            "---  ------         --------------   -----  \n",
            " 0   id_odsp        941009 non-null  object \n",
            " 1   id_event       941009 non-null  object \n",
            " 2   sort_order     941009 non-null  int64  \n",
            " 3   time           941009 non-null  int64  \n",
            " 4   text           941009 non-null  object \n",
            " 5   event_type     941009 non-null  int64  \n",
            " 6   event_type2    214293 non-null  float64\n",
            " 7   side           941009 non-null  int64  \n",
            " 8   event_team     941009 non-null  object \n",
            " 9   opponent       941009 non-null  object \n",
            " 10  player         880009 non-null  object \n",
            " 11  player2        291310 non-null  object \n",
            " 12  player_in      51715 non-null   object \n",
            " 13  player_out     51738 non-null   object \n",
            " 14  shot_place     227459 non-null  float64\n",
            " 15  shot_outcome   228498 non-null  float64\n",
            " 16  is_goal        941009 non-null  int64  \n",
            " 17  location       467067 non-null  float64\n",
            " 18  bodypart       229185 non-null  float64\n",
            " 19  assist_method  941009 non-null  int64  \n",
            " 20  situation      229137 non-null  float64\n",
            " 21  fast_break     941009 non-null  int64  \n",
            "dtypes: float64(6), int64(7), object(9)\n",
            "memory usage: 157.9+ MB\n"
          ]
        }
      ],
      "source": [
        "events_df.info()"
      ]
    },
    {
      "cell_type": "code",
      "execution_count": 5,
      "metadata": {},
      "outputs": [
        {
          "data": {
            "text/html": [
              "<div>\n",
              "<style scoped>\n",
              "    .dataframe tbody tr th:only-of-type {\n",
              "        vertical-align: middle;\n",
              "    }\n",
              "\n",
              "    .dataframe tbody tr th {\n",
              "        vertical-align: top;\n",
              "    }\n",
              "\n",
              "    .dataframe thead th {\n",
              "        text-align: right;\n",
              "    }\n",
              "</style>\n",
              "<table border=\"1\" class=\"dataframe\">\n",
              "  <thead>\n",
              "    <tr style=\"text-align: right;\">\n",
              "      <th></th>\n",
              "      <th>id_odsp</th>\n",
              "      <th>link_odsp</th>\n",
              "      <th>adv_stats</th>\n",
              "      <th>date</th>\n",
              "      <th>league</th>\n",
              "      <th>season</th>\n",
              "      <th>country</th>\n",
              "      <th>ht</th>\n",
              "      <th>at</th>\n",
              "      <th>fthg</th>\n",
              "      <th>ftag</th>\n",
              "      <th>odd_h</th>\n",
              "      <th>odd_d</th>\n",
              "      <th>odd_a</th>\n",
              "      <th>odd_over</th>\n",
              "      <th>odd_under</th>\n",
              "      <th>odd_bts</th>\n",
              "      <th>odd_bts_n</th>\n",
              "    </tr>\n",
              "  </thead>\n",
              "  <tbody>\n",
              "    <tr>\n",
              "      <th>0</th>\n",
              "      <td>UFot0hit/</td>\n",
              "      <td>/soccer/germany/bundesliga-2011-2012/dortmund-...</td>\n",
              "      <td>True</td>\n",
              "      <td>2011-08-05</td>\n",
              "      <td>D1</td>\n",
              "      <td>2012</td>\n",
              "      <td>germany</td>\n",
              "      <td>Borussia Dortmund</td>\n",
              "      <td>Hamburg SV</td>\n",
              "      <td>3</td>\n",
              "      <td>1</td>\n",
              "      <td>1.56</td>\n",
              "      <td>4.41</td>\n",
              "      <td>7.42</td>\n",
              "      <td>NaN</td>\n",
              "      <td>NaN</td>\n",
              "      <td>NaN</td>\n",
              "      <td>NaN</td>\n",
              "    </tr>\n",
              "    <tr>\n",
              "      <th>1</th>\n",
              "      <td>Aw5DflLH/</td>\n",
              "      <td>/soccer/germany/bundesliga-2011-2012/augsburg-...</td>\n",
              "      <td>True</td>\n",
              "      <td>2011-08-06</td>\n",
              "      <td>D1</td>\n",
              "      <td>2012</td>\n",
              "      <td>germany</td>\n",
              "      <td>FC Augsburg</td>\n",
              "      <td>SC Freiburg</td>\n",
              "      <td>2</td>\n",
              "      <td>2</td>\n",
              "      <td>2.36</td>\n",
              "      <td>3.60</td>\n",
              "      <td>3.40</td>\n",
              "      <td>NaN</td>\n",
              "      <td>NaN</td>\n",
              "      <td>NaN</td>\n",
              "      <td>NaN</td>\n",
              "    </tr>\n",
              "    <tr>\n",
              "      <th>2</th>\n",
              "      <td>bkjpaC6n/</td>\n",
              "      <td>/soccer/germany/bundesliga-2011-2012/werder-br...</td>\n",
              "      <td>True</td>\n",
              "      <td>2011-08-06</td>\n",
              "      <td>D1</td>\n",
              "      <td>2012</td>\n",
              "      <td>germany</td>\n",
              "      <td>Werder Bremen</td>\n",
              "      <td>Kaiserslautern</td>\n",
              "      <td>2</td>\n",
              "      <td>0</td>\n",
              "      <td>1.83</td>\n",
              "      <td>4.20</td>\n",
              "      <td>4.80</td>\n",
              "      <td>NaN</td>\n",
              "      <td>NaN</td>\n",
              "      <td>NaN</td>\n",
              "      <td>NaN</td>\n",
              "    </tr>\n",
              "    <tr>\n",
              "      <th>3</th>\n",
              "      <td>CzPV312a/</td>\n",
              "      <td>/soccer/france/ligue-1-2011-2012/paris-sg-lori...</td>\n",
              "      <td>True</td>\n",
              "      <td>2011-08-06</td>\n",
              "      <td>F1</td>\n",
              "      <td>2012</td>\n",
              "      <td>france</td>\n",
              "      <td>Paris Saint-Germain</td>\n",
              "      <td>Lorient</td>\n",
              "      <td>0</td>\n",
              "      <td>1</td>\n",
              "      <td>1.55</td>\n",
              "      <td>4.50</td>\n",
              "      <td>9.40</td>\n",
              "      <td>NaN</td>\n",
              "      <td>NaN</td>\n",
              "      <td>NaN</td>\n",
              "      <td>NaN</td>\n",
              "    </tr>\n",
              "    <tr>\n",
              "      <th>4</th>\n",
              "      <td>GUOdmtII/</td>\n",
              "      <td>/soccer/france/ligue-1-2011-2012/caen-valencie...</td>\n",
              "      <td>True</td>\n",
              "      <td>2011-08-06</td>\n",
              "      <td>F1</td>\n",
              "      <td>2012</td>\n",
              "      <td>france</td>\n",
              "      <td>Caen</td>\n",
              "      <td>Valenciennes</td>\n",
              "      <td>1</td>\n",
              "      <td>0</td>\n",
              "      <td>2.50</td>\n",
              "      <td>3.40</td>\n",
              "      <td>3.45</td>\n",
              "      <td>NaN</td>\n",
              "      <td>NaN</td>\n",
              "      <td>NaN</td>\n",
              "      <td>NaN</td>\n",
              "    </tr>\n",
              "  </tbody>\n",
              "</table>\n",
              "</div>"
            ],
            "text/plain": [
              "     id_odsp                                          link_odsp  adv_stats  \\\n",
              "0  UFot0hit/  /soccer/germany/bundesliga-2011-2012/dortmund-...       True   \n",
              "1  Aw5DflLH/  /soccer/germany/bundesliga-2011-2012/augsburg-...       True   \n",
              "2  bkjpaC6n/  /soccer/germany/bundesliga-2011-2012/werder-br...       True   \n",
              "3  CzPV312a/  /soccer/france/ligue-1-2011-2012/paris-sg-lori...       True   \n",
              "4  GUOdmtII/  /soccer/france/ligue-1-2011-2012/caen-valencie...       True   \n",
              "\n",
              "         date league  season  country                   ht              at  \\\n",
              "0  2011-08-05     D1    2012  germany    Borussia Dortmund      Hamburg SV   \n",
              "1  2011-08-06     D1    2012  germany          FC Augsburg     SC Freiburg   \n",
              "2  2011-08-06     D1    2012  germany        Werder Bremen  Kaiserslautern   \n",
              "3  2011-08-06     F1    2012   france  Paris Saint-Germain         Lorient   \n",
              "4  2011-08-06     F1    2012   france                 Caen    Valenciennes   \n",
              "\n",
              "   fthg  ftag  odd_h  odd_d  odd_a  odd_over  odd_under  odd_bts  odd_bts_n  \n",
              "0     3     1   1.56   4.41   7.42       NaN        NaN      NaN        NaN  \n",
              "1     2     2   2.36   3.60   3.40       NaN        NaN      NaN        NaN  \n",
              "2     2     0   1.83   4.20   4.80       NaN        NaN      NaN        NaN  \n",
              "3     0     1   1.55   4.50   9.40       NaN        NaN      NaN        NaN  \n",
              "4     1     0   2.50   3.40   3.45       NaN        NaN      NaN        NaN  "
            ]
          },
          "execution_count": 5,
          "metadata": {},
          "output_type": "execute_result"
        }
      ],
      "source": [
        "ginf_df.head()"
      ]
    },
    {
      "cell_type": "markdown",
      "metadata": {
        "id": "_1D8NHS_P0nq"
      },
      "source": [
        "## Q1. Delete the rows without detailed event data."
      ]
    },
    {
      "cell_type": "code",
      "execution_count": 6,
      "metadata": {
        "id": "GqKz6jt3Ql8D"
      },
      "outputs": [
        {
          "name": "stdout",
          "output_type": "stream",
          "text": [
            "<class 'pandas.core.frame.DataFrame'>\n",
            "Int64Index: 9182 entries, 0 to 10111\n",
            "Data columns (total 18 columns):\n",
            " #   Column     Non-Null Count  Dtype  \n",
            "---  ------     --------------  -----  \n",
            " 0   id_odsp    9182 non-null   object \n",
            " 1   link_odsp  9182 non-null   object \n",
            " 2   adv_stats  9182 non-null   bool   \n",
            " 3   date       9182 non-null   object \n",
            " 4   league     9182 non-null   object \n",
            " 5   season     9182 non-null   int64  \n",
            " 6   country    9182 non-null   object \n",
            " 7   ht         9182 non-null   object \n",
            " 8   at         9182 non-null   object \n",
            " 9   fthg       9182 non-null   int64  \n",
            " 10  ftag       9182 non-null   int64  \n",
            " 11  odd_h      9182 non-null   float64\n",
            " 12  odd_d      9182 non-null   float64\n",
            " 13  odd_a      9182 non-null   float64\n",
            " 14  odd_over   977 non-null    float64\n",
            " 15  odd_under  977 non-null    float64\n",
            " 16  odd_bts    977 non-null    float64\n",
            " 17  odd_bts_n  977 non-null    float64\n",
            "dtypes: bool(1), float64(7), int64(3), object(7)\n",
            "memory usage: 1.3+ MB\n"
          ]
        }
      ],
      "source": [
        "ginf_df=ginf_df[ginf_df.adv_stats==True]\n",
        "ginf_df.info()"
      ]
    },
    {
      "cell_type": "markdown",
      "metadata": {
        "id": "EGI2sOPhBUu-"
      },
      "source": [
        "## Q2. Extract the top most eventfull games\n",
        "1. Write a function that returns the top n most eventfull games as pandas.DataFrame\n",
        "2. plot the 10 top games using the function above with a <b>horizontal bar chart</b>.<br>\n",
        "<b>be carefull not to use game-id's in the plot, use their name.</b>\n"
      ]
    },
    {
      "cell_type": "code",
      "execution_count": 7,
      "metadata": {
        "id": "O6i_Op0ahs65"
      },
      "outputs": [],
      "source": [
        "# write your code here\n",
        "id_odsp_with_count=events_df.groupby(['id_odsp']).count().sort_values('id_event',ascending=False).iloc[:10,0] # Find the games event count by game id\n",
        "event_count=id_odsp_with_count.values \n",
        "\n",
        "# create name for the game by using the game id & game teams\n",
        "game_name=events_df.groupby(['id_odsp'])['event_team'].apply(lambda x : pd.unique(x)).apply(lambda x : x[0]+'_'+x[1]).loc[id_odsp_with_count.index].values \n"
      ]
    },
    {
      "cell_type": "code",
      "execution_count": 8,
      "metadata": {},
      "outputs": [],
      "source": [
        "import matplotlib.pyplot as plt "
      ]
    },
    {
      "cell_type": "code",
      "execution_count": 9,
      "metadata": {},
      "outputs": [
        {
          "data": {
            "text/plain": [
              "<BarContainer object of 10 artists>"
            ]
          },
          "execution_count": 9,
          "metadata": {},
          "output_type": "execute_result"
        },
        {
          "data": {
            "image/png": "[encoded data removed]",
            "text/plain": [
              "<Figure size 2160x432 with 1 Axes>"
            ]
          },
          "metadata": {
            "needs_background": "light"
          },
          "output_type": "display_data"
        }
      ],
      "source": [
        "plt.figure(figsize=(30, 6))\n",
        "plt.bar(game_name,event_count)"
      ]
    },
    {
      "cell_type": "markdown",
      "metadata": {
        "id": "BWD6e5vSET2a"
      },
      "source": [
        "## Q3. What are the most frequent events?\n",
        "1. Write a function that returns the n most frequent events as pandas.DataFrame\n",
        "2. plot the 5 most frequent events  using the function above with a <b>Pie chart</b>.<br>"
      ]
    },
    {
      "cell_type": "code",
      "execution_count": 10,
      "metadata": {
        "id": "Lf-fnYfWiElE"
      },
      "outputs": [],
      "source": [
        "# write your code here\n",
        "\n",
        "dict_of_types ={1:'Attempt(shot)', 2:'Corner', 3:'Foul', 4:'Yellow Card', 5:'Second yellow card', \n",
        "6:'Straight red card', 7:'Substitution', 8:'Free kick won', \n",
        "9:'Offside', 10:'Hand Ball', 11:'Penalty conceded'\n",
        ",12 : 'Key Pass', 13 : 'Failed through ball', \n",
        "14:'Sending off', 15:'Own goal'}\n",
        "\n"
      ]
    },
    {
      "cell_type": "code",
      "execution_count": 11,
      "metadata": {},
      "outputs": [],
      "source": [
        "def frequent_events(dict_of_types:dict,n=5,dataframe=events_df):\n",
        "    type=events_df.groupby(['event_type']).count().sort_values('id_odsp',ascending=False).iloc[:,0]\n",
        "    type2=events_df.groupby(['event_type2']).count().sort_values('id_odsp',ascending=False).iloc[:,0]\n",
        "    merged=pd.concat([type,type2],axis=0)\n",
        "    merged.sort_values(inplace=True,ascending=False)\n",
        "    merged.index=merged.index.astype('int16')\n",
        "    s=merged.index.to_series()\n",
        "    merged.index=s.map(dict_of_types)\n",
        "    labels=merged.iloc[:n].index\n",
        "    x=merged.iloc[:n].values\n",
        "    fig, ax = plt.subplots(figsize=(6, 6))\n",
        "    ax.pie(x, labels=labels, autopct='%.1f%%')\n",
        "    ax.set_title('Most frequent Events')\n",
        "    plt.tight_layout()\n",
        "    plt.pie(merged.iloc[:n])"
      ]
    },
    {
      "cell_type": "code",
      "execution_count": 12,
      "metadata": {},
      "outputs": [
        {
          "data": {
            "image/png": "[encoded data removed]",
            "text/plain": [
              "<Figure size 432x432 with 1 Axes>"
            ]
          },
          "metadata": {},
          "output_type": "display_data"
        }
      ],
      "source": [
        "frequent_events(dict_of_types)"
      ]
    },
    {
      "cell_type": "markdown",
      "metadata": {
        "id": "6upMZ04SPVCE"
      },
      "source": [
        "## Q4. Find the distribution of the time each goal is scored.\n",
        "In this part we want to notice that on which times during a game the goals are scored.(use histogram)"
      ]
    },
    {
      "cell_type": "code",
      "execution_count": 13,
      "metadata": {
        "id": "Bh4a9s7BYf_T"
      },
      "outputs": [],
      "source": [
        "# write your code here"
      ]
    },
    {
      "cell_type": "markdown",
      "metadata": {
        "id": "9boTJDctb9dK"
      },
      "source": [
        "## Q5. shots outcome\n",
        " We want to create a DataFrame containing the total number of (1-On target, 2-Off target, 3-Blocked, 4-Hit the post)shot outcomes for four quarters of a game. You must create a 4-row and 4-column DataFrame for shot outcomes and the time they happend.<br>\n",
        "### Four quarters:\n",
        "1. 0 to 25\n",
        "2. 25 to 45\n",
        "3. 45 to 70\n",
        "4. 70 to ..."
      ]
    },
    {
      "cell_type": "code",
      "execution_count": 102,
      "metadata": {
        "id": "1A7T2_9-iVUZ"
      },
      "outputs": [],
      "source": [
        "# write your code here\n",
        "# events_df.loc[:,[\"time\",\"text\"]]\n",
        "def find_shot_outcomes(text:str):\n",
        "    if ('Goal' in text) or ('Attempt saved' in text):\n",
        "        return 1\n",
        "    elif 'Attempt missed' in text :\n",
        "        return 2\n",
        "    elif 'blocked' in text :\n",
        "        return 3\n",
        "    elif 'hits the' in text:\n",
        "        return 4\n",
        "\n",
        "def set_quarted(minute):\n",
        "    if minute >0 and minute<25:\n",
        "        return 1\n",
        "    elif minute >=25 and minute<45:\n",
        "        return 2\n",
        "    elif minute <=45 and minute<70:\n",
        "        return 3\n",
        "    else :\n",
        "        return 4 \n",
        "\n",
        "events_df['Shots_outcomes']=events_df[events_df['event_type']==1]['text'].apply(find_shot_outcomes)\n",
        "events_df['minute_quartor']=events_df['time'].apply(set_quarted)\n"
      ]
    },
    {
      "cell_type": "code",
      "execution_count": 103,
      "metadata": {},
      "outputs": [
        {
          "data": {
            "text/plain": [
              "Shots_outcomes  minute_quartor\n",
              "1.0             1                 17320\n",
              "                2                 15871\n",
              "                3                  1751\n",
              "                4                 43251\n",
              "2.0             1                 21503\n",
              "                2                 19374\n",
              "                3                  2226\n",
              "                4                 49628\n",
              "3.0             1                 12017\n",
              "                2                 11664\n",
              "                3                  1210\n",
              "                4                 29191\n",
              "4.0             1                   744\n",
              "                2                   752\n",
              "                3                    90\n",
              "                4                  1989\n",
              "Name: event_type, dtype: int64"
            ]
          },
          "execution_count": 103,
          "metadata": {},
          "output_type": "execute_result"
        }
      ],
      "source": [
        "# TODO\n",
        "# This should convert to a DataFrame\n",
        "events_df.groupby(['Shots_outcomes','minute_quartor'])['event_type'].count()\n"
      ]
    },
    {
      "cell_type": "markdown",
      "metadata": {
        "id": "sV8oyfWHpwSz"
      },
      "source": [
        "## Q6. Find the mean of events in diffrent years\n",
        "1. We want to create a DataFrame containing the average of #event_type for diffrent years.The dataframe must have 11 rows for each event_type.\n",
        "2. plot the result in a way that you think is more informative.\n",
        " "
      ]
    },
    {
      "cell_type": "code",
      "execution_count": 15,
      "metadata": {
        "id": "Urih2WGJm_sp"
      },
      "outputs": [],
      "source": [
        "# write your code here0\n",
        "merged_df=pd.merge(events_df,ginf_df,on='id_odsp',how='inner')"
      ]
    },
    {
      "cell_type": "code",
      "execution_count": 16,
      "metadata": {},
      "outputs": [],
      "source": [
        "merged_df['year']=pd.DatetimeIndex(merged_df['date']).year"
      ]
    },
    {
      "cell_type": "code",
      "execution_count": 17,
      "metadata": {},
      "outputs": [],
      "source": [
        "merged_df=merged_df.groupby(['event_type','year'])['id_odsp'].count()\n"
      ]
    },
    {
      "cell_type": "code",
      "execution_count": 52,
      "metadata": {},
      "outputs": [
        {
          "data": {
            "image/png": "[encoded data removed]",
            "text/plain": [
              "<Figure size 720x1800 with 11 Axes>"
            ]
          },
          "metadata": {
            "needs_background": "light"
          },
          "output_type": "display_data"
        }
      ],
      "source": [
        "ax = merged_df.unstack(level=0).plot(kind='bar', subplots=True, rot=5, figsize=(10, 25), layout=(11,1))\n",
        "\n",
        "plt.tight_layout(pad=1.0)"
      ]
    },
    {
      "cell_type": "code",
      "execution_count": 47,
      "metadata": {},
      "outputs": [
        {
          "data": {
            "text/html": [
              "<div>\n",
              "<style scoped>\n",
              "    .dataframe tbody tr th:only-of-type {\n",
              "        vertical-align: middle;\n",
              "    }\n",
              "\n",
              "    .dataframe tbody tr th {\n",
              "        vertical-align: top;\n",
              "    }\n",
              "\n",
              "    .dataframe thead th {\n",
              "        text-align: right;\n",
              "    }\n",
              "</style>\n",
              "<table border=\"1\" class=\"dataframe\">\n",
              "  <thead>\n",
              "    <tr style=\"text-align: right;\">\n",
              "      <th>event_type</th>\n",
              "      <th>1</th>\n",
              "      <th>2</th>\n",
              "      <th>3</th>\n",
              "      <th>4</th>\n",
              "      <th>5</th>\n",
              "      <th>6</th>\n",
              "      <th>7</th>\n",
              "      <th>8</th>\n",
              "      <th>9</th>\n",
              "      <th>10</th>\n",
              "      <th>11</th>\n",
              "    </tr>\n",
              "    <tr>\n",
              "      <th>year</th>\n",
              "      <th></th>\n",
              "      <th></th>\n",
              "      <th></th>\n",
              "      <th></th>\n",
              "      <th></th>\n",
              "      <th></th>\n",
              "      <th></th>\n",
              "      <th></th>\n",
              "      <th></th>\n",
              "      <th></th>\n",
              "      <th></th>\n",
              "    </tr>\n",
              "  </thead>\n",
              "  <tbody>\n",
              "    <tr>\n",
              "      <th>2011</th>\n",
              "      <td>16205.0</td>\n",
              "      <td>6284.0</td>\n",
              "      <td>17657.0</td>\n",
              "      <td>2887.0</td>\n",
              "      <td>NaN</td>\n",
              "      <td>91.0</td>\n",
              "      <td>3590.0</td>\n",
              "      <td>18156.0</td>\n",
              "      <td>3497.0</td>\n",
              "      <td>910.0</td>\n",
              "      <td>193.0</td>\n",
              "    </tr>\n",
              "    <tr>\n",
              "      <th>2012</th>\n",
              "      <td>36435.0</td>\n",
              "      <td>14520.0</td>\n",
              "      <td>38924.0</td>\n",
              "      <td>6634.0</td>\n",
              "      <td>NaN</td>\n",
              "      <td>238.0</td>\n",
              "      <td>8121.0</td>\n",
              "      <td>39933.0</td>\n",
              "      <td>7709.0</td>\n",
              "      <td>2133.0</td>\n",
              "      <td>439.0</td>\n",
              "    </tr>\n",
              "    <tr>\n",
              "      <th>2013</th>\n",
              "      <td>39231.0</td>\n",
              "      <td>15580.0</td>\n",
              "      <td>39522.0</td>\n",
              "      <td>6772.0</td>\n",
              "      <td>NaN</td>\n",
              "      <td>182.0</td>\n",
              "      <td>8688.0</td>\n",
              "      <td>40490.0</td>\n",
              "      <td>7539.0</td>\n",
              "      <td>1970.0</td>\n",
              "      <td>392.0</td>\n",
              "    </tr>\n",
              "    <tr>\n",
              "      <th>2014</th>\n",
              "      <td>44646.0</td>\n",
              "      <td>17829.0</td>\n",
              "      <td>43735.0</td>\n",
              "      <td>7224.0</td>\n",
              "      <td>1.0</td>\n",
              "      <td>197.0</td>\n",
              "      <td>10009.0</td>\n",
              "      <td>44663.0</td>\n",
              "      <td>7847.0</td>\n",
              "      <td>1819.0</td>\n",
              "      <td>391.0</td>\n",
              "    </tr>\n",
              "    <tr>\n",
              "      <th>2015</th>\n",
              "      <td>45790.0</td>\n",
              "      <td>18190.0</td>\n",
              "      <td>46326.0</td>\n",
              "      <td>8338.0</td>\n",
              "      <td>NaN</td>\n",
              "      <td>239.0</td>\n",
              "      <td>10491.0</td>\n",
              "      <td>47245.0</td>\n",
              "      <td>8361.0</td>\n",
              "      <td>1829.0</td>\n",
              "      <td>439.0</td>\n",
              "    </tr>\n",
              "    <tr>\n",
              "      <th>2016</th>\n",
              "      <td>43838.0</td>\n",
              "      <td>17614.0</td>\n",
              "      <td>43853.0</td>\n",
              "      <td>7570.0</td>\n",
              "      <td>86.0</td>\n",
              "      <td>194.0</td>\n",
              "      <td>10180.0</td>\n",
              "      <td>44497.0</td>\n",
              "      <td>7980.0</td>\n",
              "      <td>1942.0</td>\n",
              "      <td>795.0</td>\n",
              "    </tr>\n",
              "    <tr>\n",
              "      <th>2017</th>\n",
              "      <td>2990.0</td>\n",
              "      <td>1187.0</td>\n",
              "      <td>2908.0</td>\n",
              "      <td>486.0</td>\n",
              "      <td>13.0</td>\n",
              "      <td>11.0</td>\n",
              "      <td>659.0</td>\n",
              "      <td>2948.0</td>\n",
              "      <td>543.0</td>\n",
              "      <td>127.0</td>\n",
              "      <td>57.0</td>\n",
              "    </tr>\n",
              "  </tbody>\n",
              "</table>\n",
              "</div>"
            ],
            "text/plain": [
              "event_type       1        2        3       4     5      6        7        8   \\\n",
              "year                                                                           \n",
              "2011        16205.0   6284.0  17657.0  2887.0   NaN   91.0   3590.0  18156.0   \n",
              "2012        36435.0  14520.0  38924.0  6634.0   NaN  238.0   8121.0  39933.0   \n",
              "2013        39231.0  15580.0  39522.0  6772.0   NaN  182.0   8688.0  40490.0   \n",
              "2014        44646.0  17829.0  43735.0  7224.0   1.0  197.0  10009.0  44663.0   \n",
              "2015        45790.0  18190.0  46326.0  8338.0   NaN  239.0  10491.0  47245.0   \n",
              "2016        43838.0  17614.0  43853.0  7570.0  86.0  194.0  10180.0  44497.0   \n",
              "2017         2990.0   1187.0   2908.0   486.0  13.0   11.0    659.0   2948.0   \n",
              "\n",
              "event_type      9       10     11  \n",
              "year                               \n",
              "2011        3497.0   910.0  193.0  \n",
              "2012        7709.0  2133.0  439.0  \n",
              "2013        7539.0  1970.0  392.0  \n",
              "2014        7847.0  1819.0  391.0  \n",
              "2015        8361.0  1829.0  439.0  \n",
              "2016        7980.0  1942.0  795.0  \n",
              "2017         543.0   127.0   57.0  "
            ]
          },
          "execution_count": 47,
          "metadata": {},
          "output_type": "execute_result"
        }
      ],
      "source": [
        "merged_df.unstack(level=0)"
      ]
    },
    {
      "cell_type": "markdown",
      "metadata": {
        "id": "Q3uWWHk1SxuX"
      },
      "source": [
        "## Q7. Most-scoring leages\n",
        "Sort the leages by the average of scores in a season."
      ]
    },
    {
      "cell_type": "code",
      "execution_count": 99,
      "metadata": {
        "id": "7wl85nDhUfPR"
      },
      "outputs": [],
      "source": [
        "# write your code here\n",
        "ginf_df['scores']=ginf_df.loc[:,['ftag','fthg']].sum(axis=1)"
      ]
    },
    {
      "cell_type": "code",
      "execution_count": 100,
      "metadata": {},
      "outputs": [
        {
          "data": {
            "text/plain": [
              "season  league\n",
              "2012    D1         836\n",
              "        F1         929\n",
              "        I1         928\n",
              "        SP1        990\n",
              "2013    D1         894\n",
              "        F1         955\n",
              "        I1        1000\n",
              "        SP1       1091\n",
              "2014    D1         859\n",
              "        E0         916\n",
              "        F1         931\n",
              "        I1        1035\n",
              "        SP1       1045\n",
              "2015    D1         845\n",
              "        E0         975\n",
              "        F1         947\n",
              "        I1        1024\n",
              "        SP1       1009\n",
              "2016    D1         869\n",
              "        E0        1026\n",
              "        F1         960\n",
              "        I1         979\n",
              "        SP1       1043\n",
              "2017    D1         408\n",
              "        E0         630\n",
              "        F1         522\n",
              "        I1         570\n",
              "        SP1        549\n",
              "Name: scores, dtype: int64"
            ]
          },
          "execution_count": 100,
          "metadata": {},
          "output_type": "execute_result"
        }
      ],
      "source": [
        "ginf_df.groupby(['season','league'])['scores'].sum()"
      ]
    },
    {
      "cell_type": "code",
      "execution_count": 20,
      "metadata": {},
      "outputs": [
        {
          "data": {
            "text/plain": [
              "<pandas.core.groupby.generic.DataFrameGroupBy object at 0x0000024286A4B700>"
            ]
          },
          "execution_count": 20,
          "metadata": {},
          "output_type": "execute_result"
        }
      ],
      "source": [
        "ginf_df.groupby(['season','league'])"
      ]
    },
    {
      "cell_type": "markdown",
      "metadata": {
        "id": "3fU6wlTTUhii"
      },
      "source": [
        "## Q8. Find the games that the away team won by 3 or more goal diffrence."
      ]
    },
    {
      "cell_type": "code",
      "execution_count": 56,
      "metadata": {
        "id": "kmgOaBd5VJzz"
      },
      "outputs": [
        {
          "data": {
            "text/plain": [
              "(array([   9,   16,   61,   73,   83,  100,  130,  178,  197,  241,  243,\n",
              "         303,  329,  374,  462,  481,  509,  578,  582,  588,  640,  680,\n",
              "         689,  693,  698,  719,  725,  813,  814,  816,  909,  910,  983,\n",
              "         984, 1004, 1006, 1015, 1032, 1049, 1050, 1053, 1057, 1065, 1103,\n",
              "        1148, 1152, 1172, 1202, 1220, 1239, 1243, 1252, 1257, 1258, 1259,\n",
              "        1293, 1304, 1313, 1320, 1418, 1427, 1435, 1447, 1455, 1466, 1470,\n",
              "        1500, 1536, 1570, 1607, 1652, 1658, 1659, 1695, 1705, 1722, 1745,\n",
              "        1795, 1796, 1812, 1878, 1901, 1906, 1925, 1941, 1978, 1987, 2040,\n",
              "        2051, 2119, 2136, 2155, 2194, 2200, 2240, 2244, 2246, 2262, 2299,\n",
              "        2300, 2317, 2355, 2405, 2407, 2465, 2504, 2546, 2548, 2572, 2577,\n",
              "        2579, 2589, 2594, 2638, 2653, 2683, 2685, 2701, 2703, 2725, 2747,\n",
              "        2776, 2777, 2879, 2892, 2894, 2895, 2923, 2935, 2954, 2962, 2966,\n",
              "        2970, 3045, 3061, 3091, 3096, 3098, 3151, 3154, 3162, 3169, 3177,\n",
              "        3180, 3203, 3213, 3236, 3268, 3314, 3317, 3332, 3340, 3341, 3343,\n",
              "        3345, 3361, 3362, 3381, 3421, 3441, 3464, 3508, 3515, 3544, 3557,\n",
              "        3560, 3580, 3602, 3617, 3640, 3643, 3651, 3655, 3672, 3689, 3735,\n",
              "        3737, 3752, 3762, 3772, 3805, 3826, 3832, 3834, 3855, 3882, 3885,\n",
              "        3921, 3934, 3942, 3957, 3964, 3995, 4003, 4009, 4053, 4071, 4076,\n",
              "        4104, 4107, 4122, 4134, 4144, 4145, 4234, 4239, 4243, 4272, 4303,\n",
              "        4347, 4357, 4358, 4375, 4383, 4384, 4417, 4429, 4470, 4517, 4520,\n",
              "        4523, 4554, 4635, 4646, 4653, 4725, 4740, 4760, 4765, 4767, 4768,\n",
              "        4774, 4823, 4841, 4852, 4914, 4926, 4959, 4985, 5023, 5034, 5072,\n",
              "        5116, 5130, 5157, 5189, 5191, 5194, 5218, 5229, 5252, 5277, 5299,\n",
              "        5316, 5367, 5375, 5377, 5428, 5486, 5504, 5510, 5520, 5527, 5553,\n",
              "        5567, 5598, 5611, 5643, 5657, 5686, 5719, 5778, 5803, 5824, 5835,\n",
              "        5865, 5868, 5892, 5937, 5946, 5948, 5950, 5966, 5999, 6003, 6015,\n",
              "        6018, 6084, 6128, 6154, 6196, 6228, 6257, 6272, 6299, 6305, 6312,\n",
              "        6335, 6396, 6408, 6416, 6465, 6485, 6487, 6501, 6517, 6519, 6524,\n",
              "        6550, 6579, 6623, 6664, 6665, 6667, 6674, 6694, 6705, 6738, 6746,\n",
              "        6778, 6784, 6785, 6802, 6844, 6850, 6873, 6891, 6935, 6968, 6972,\n",
              "        6979, 6987, 6996, 7047, 7053, 7059, 7068, 7075, 7095, 7141, 7146,\n",
              "        7174, 7262, 7266, 7306, 7344, 7348, 7429, 7430, 7447, 7494, 7497,\n",
              "        7519, 7525, 7570, 7653, 7663, 7672, 7687, 7688, 7714, 7724, 7776,\n",
              "        7785, 7827, 7839, 7844, 7853, 7874, 7879, 7919, 7947, 7956, 7959,\n",
              "        7979, 7980, 7996, 8016, 8018, 8076, 8079, 8104, 8109, 8137, 8140,\n",
              "        8162, 8178, 8219, 8237, 8240, 8250, 8317, 8318, 8329, 8341, 8352,\n",
              "        8361, 8364, 8367, 8375, 8384, 8418, 8440, 8459, 8484, 8503, 8518,\n",
              "        8531, 8568, 8596, 8598, 8606, 8662, 8664, 8671, 8713, 8725, 8734,\n",
              "        8751, 8757, 8773, 8796, 8804, 8806, 8832, 8861, 8887, 8919, 8933,\n",
              "        8938, 8953, 8961, 9011, 9048, 9051, 9053, 9055, 9063, 9076, 9090,\n",
              "        9101, 9110, 9125, 9149, 9166], dtype=int64),)"
            ]
          },
          "execution_count": 56,
          "metadata": {},
          "output_type": "execute_result"
        }
      ],
      "source": [
        "# write your code here\n",
        "np.where((ginf_df['ftag']-ginf_df['fthg']>=3))"
      ]
    },
    {
      "cell_type": "markdown",
      "metadata": {
        "id": "k3_ZRtw2VKqs"
      },
      "source": [
        "## Q9. Find the two players with most event together. "
      ]
    },
    {
      "cell_type": "code",
      "execution_count": null,
      "metadata": {
        "id": "QtgkaVfTWqD2"
      },
      "outputs": [],
      "source": []
    },
    {
      "cell_type": "markdown",
      "metadata": {
        "id": "1RJN4IAtWwm4"
      },
      "source": [
        "## Q10. sort the players with most goals+assist)"
      ]
    },
    {
      "cell_type": "code",
      "execution_count": null,
      "metadata": {
        "id": "FWztYX6FWxBd"
      },
      "outputs": [],
      "source": []
    },
    {
      "cell_type": "markdown",
      "metadata": {
        "id": "3r96CNzYYhDW"
      },
      "source": [
        "##Q11.\n",
        " In this section we want to have a comparison between np built-in functions and pure python performance in terms of time.<br>\n",
        "we have declared an abstract class named Base_compare which has two functions:\n",
        "1. time_function:It gets the np.ndarray as input and do some function(for example sum function) on it and returns the time which took the system to run the function.\n",
        "2. calculate:This function is a simple for loop(i from 1 to max_length with step=step) that builds a random np.ndarray with length=i then it calls time_function on the array.calculate function returns the length of each array and the time taken to do the function on the corresponding array in a pandas.DataFrame.\n",
        "\n"
      ]
    },
    {
      "cell_type": "markdown",
      "metadata": {
        "id": "PqE9e57Qnucj"
      },
      "source": [
        "1. Complete the time_functions in the two classes below.\n",
        "2. Initialize one object of each class.\n",
        "3. Run calculate function for the two objects you made.\n",
        "4. Concatenate the result into a single dataframe.\n",
        "5. Plot the dataframe.\n",
        "6. What do you understand from the figure.\n",
        "7. Why is there a bump in the times taken by system?(Extra points)    \n",
        "8. Why did we make the abstract function?and how could we do it better?(Extra points)  <br>\n"
      ]
    },
    {
      "cell_type": "code",
      "execution_count": 22,
      "metadata": {
        "id": "C-6SyK1NiN9f"
      },
      "outputs": [],
      "source": [
        "from abc import abstractmethod\n",
        "class Base_model:\n",
        "\n",
        "  def __init__(self,iteration=100,max_length=1000,step=10):\n",
        "    self.iteration = iteration\n",
        "    self.max_length = max_length\n",
        "    self.step = step\n",
        "\n",
        "  def calculate(self):\n",
        "    #todo\n",
        "    pass \n",
        "  \n",
        "  @abstractmethod\n",
        "  def time_function(self,array):\n",
        "    pass\n",
        "  \n",
        " \n",
        "    "
      ]
    },
    {
      "cell_type": "code",
      "execution_count": 89,
      "metadata": {
        "id": "kbJtcDPZe2Sn"
      },
      "outputs": [],
      "source": [
        "class Np_bulitin_sum(Base_model):\n",
        "  def __init__(self,iteration=100,max_length=1000,step=10):\n",
        "    super.__init__(iteration=iteration,max_length=iteration,step=iteration)\n",
        "\n",
        "  def time_function(self,array):\n",
        "    pass\n",
        "    ##todo\n"
      ]
    },
    {
      "cell_type": "code",
      "execution_count": null,
      "metadata": {
        "id": "jSkWVjucjt5V"
      },
      "outputs": [],
      "source": [
        "class Pure_python_sum(Base_model):\n",
        "\n",
        "  def __init__(self,iteration=100,max_length=1000,step=10):\n",
        "    super.__init__(iteration=iteration,max_length=iteration,step=iteration)\n",
        "    \n",
        "  def time_function(self,array):\n",
        "    ##todo"
      ]
    }
  ],
  "metadata": {
    "colab": {
      "provenance": []
    },
    "kernelspec": {
      "display_name": "Python 3",
      "name": "python3"
    },
    "language_info": {
      "codemirror_mode": {
        "name": "ipython",
        "version": 3
      },
      "file_extension": ".py",
      "mimetype": "text/x-python",
      "name": "python",
      "nbconvert_exporter": "python",
      "pygments_lexer": "ipython3",
      "version": "3.9.7"
    }
  },
  "nbformat": 4,
  "nbformat_minor": 0
}
